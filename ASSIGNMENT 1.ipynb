{
 "cells": [
  {
   "cell_type": "code",
   "execution_count": 2,
   "id": "aa5dd56f-8dd6-4d46-b819-2318b630339f",
   "metadata": {},
   "outputs": [
    {
     "name": "stdout",
     "output_type": "stream",
     "text": [
      "Name: Anu\n",
      "Student Number: ST3452\n",
      "E-mail Address: anu3476@gmail.com\n"
     ]
    }
   ],
   "source": [
    "# Python code to print name,student number and e-mail\n",
    "print(\"Name: Anu\")\n",
    "print(\"Student Number: ST3452\")\n",
    "print(\"E-mail Address: anu3476@gmail.com\")\n"
   ]
  },
  {
   "cell_type": "code",
   "execution_count": 8,
   "id": "db150016-8658-4b6a-9ab4-7d21c09db95b",
   "metadata": {},
   "outputs": [
    {
     "name": "stdout",
     "output_type": "stream",
     "text": [
      "Name: Anu \n",
      "Student Number: ST3452\n",
      "E-mail Address: anu3476@gmail.com\n"
     ]
    }
   ],
   "source": [
    "# python code to print name,student name e-mail using escape sequences\n",
    "print(\"Name: Anu \\nStudent Number: ST3452\\nE-mail Address: anu3476@gmail.com\")\n"
   ]
  },
  {
   "cell_type": "code",
   "execution_count": 16,
   "id": "56febd59-8f30-4cbf-826f-2231a8836450",
   "metadata": {},
   "outputs": [
    {
     "name": "stdout",
     "output_type": "stream",
     "text": [
      "Addition :  21\n",
      "Subtraction :  7\n",
      "Multiplication :  98\n",
      "Division :  2.0\n"
     ]
    }
   ],
   "source": [
    "#python code toadd subtract multiply and devide two numbers\n",
    "num1=14\n",
    "num2=7\n",
    "addition=num1 + num2\n",
    "subtraction=num1-num2\n",
    "multiplication=num1*num2\n",
    "division=num1/num2\n",
    "print(\"Addition : \",addition)\n",
    "print(\"Subtraction : \",subtraction)\n",
    "print(\"Multiplication : \",multiplication)\n",
    "print(\"Division : \",division)\n",
    "      \n"
   ]
  },
  {
   "cell_type": "code",
   "execution_count": 18,
   "id": "c5a507c9-4e46-4415-a1cf-acaebf873366",
   "metadata": {},
   "outputs": [
    {
     "name": "stdout",
     "output_type": "stream",
     "text": [
      "1\n",
      "2\n",
      "3\n",
      "4\n",
      "5\n"
     ]
    }
   ],
   "source": [
    "#display the numbers from 1 to 5 as steps\n",
    "print(1)\n",
    "print(2)\n",
    "print(3)\n",
    "print(4)\n",
    "print(5)"
   ]
  },
  {
   "cell_type": "code",
   "execution_count": 20,
   "id": "e69423ae-8377-41c5-aa64-793765941fe6",
   "metadata": {},
   "outputs": [
    {
     "name": "stdout",
     "output_type": "stream",
     "text": [
      "\"SDK\"stands for \"Software Develiopment kit\"\n",
      "whereas \"IDE\" stands for \"Inegrated Development Environment\"\n"
     ]
    }
   ],
   "source": [
    "# python code using line breakers\n",
    "print('\"SDK\"stands for \"Software Develiopment kit\"\\nwhereas \"IDE\" stands for \"Inegrated Development Environment\"')"
   ]
  },
  {
   "cell_type": "code",
   "execution_count": 27,
   "id": "b2d71ce9-ec51-4f5c-82eb-c92786eef56d",
   "metadata": {},
   "outputs": [
    {
     "name": "stdout",
     "output_type": "stream",
     "text": [
      "python is an \"awesome\" language.\n",
      "python\n",
      "\t2023\n",
      "I'm from Entri\n",
      "5\n",
      "e\n",
      "Entri\n",
      "2023\n",
      "Entr2023\n",
      "Entri*20"
     ]
    }
   ],
   "source": [
    "#practice and check output\n",
    "print(\"python is an \\\"awesome\\\" language.\")\n",
    "print(\"python\\n\\t2023\") \n",
    "print('I\\'m from Entri.\\b')\n",
    "print(\"\\65\") \n",
    "print(\"\\x65\") \n",
    "print(\"Entri\", \"2023\", sep=\"\\n\") \n",
    "print(\"Entri\", \"2023\", sep=\"\\b\") \n",
    "print(\"Entri\", \"2023\", sep=\"*\", end=\"\\b\\b\\b\\b\")"
   ]
  },
  {
   "cell_type": "code",
   "execution_count": 2,
   "id": "38fa6e5c-9f7d-42b9-a987-997989c22657",
   "metadata": {},
   "outputs": [
    {
     "name": "stdout",
     "output_type": "stream",
     "text": [
      "Type of num: <class 'int'>\n",
      "Type of textnum <class 'str'>\n",
      "Type of decimal <class 'float'>\n",
      "sum of variables :  178.0\n",
      "Type of sum: <class 'float'>\n"
     ]
    }
   ],
   "source": [
    "#Define variables and print type of each variable\n",
    "num = 23\n",
    "textnum = \"57\"\n",
    "decimal = 98.0\n",
    "print(\"Type of num:\",type(num))\n",
    "print(\"Type of textnum\",type(textnum))\n",
    "print (\"Type of decimal\",type(decimal))\n",
    "textnum_int=int(textnum)\n",
    "sum=num + textnum_int + decimal\n",
    "print(\"sum of variables : \",sum)\n",
    "print(\"Type of sum:\",type(sum))\n"
   ]
  },
  {
   "cell_type": "code",
   "execution_count": 4,
   "id": "5666512b-402e-4309-b2e1-df2174c95987",
   "metadata": {},
   "outputs": [
    {
     "name": "stdout",
     "output_type": "stream",
     "text": [
      "Total minutes in a year: 525600\n"
     ]
    }
   ],
   "source": [
    "#calculate number of minutes in  ayear\n",
    "days_in_year = 365\n",
    "hours_in_day = 24\n",
    "minutes_in_hour = 60\n",
    "total_minutes_in_year = days_in_year * hours_in_day * minutes_in_hour\n",
    "print(\"Total minutes in a year:\", total_minutes_in_year)\n"
   ]
  },
  {
   "cell_type": "code",
   "execution_count": 6,
   "id": "dab1e538-adc5-47a1-a037-a6f45a052a41",
   "metadata": {},
   "outputs": [
    {
     "name": "stdin",
     "output_type": "stream",
     "text": [
      "Please enter your name:  geethu\n"
     ]
    },
    {
     "name": "stdout",
     "output_type": "stream",
     "text": [
      "Hi geethu, welcome to Python programming\n"
     ]
    }
   ],
   "source": [
    "#ask the user to enter name and print greeting\n",
    "name = input(\"Please enter your name: \")\n",
    "print(\"Hi\", name + \", welcome to Python programming\")\n"
   ]
  },
  {
   "cell_type": "code",
   "execution_count": 12,
   "id": "d2fc50eb-9e13-4cf7-959a-0b76e50150c6",
   "metadata": {},
   "outputs": [
    {
     "name": "stdin",
     "output_type": "stream",
     "text": [
      "Please enter amount in pounds: £ 250\n"
     ]
    },
    {
     "name": "stdout",
     "output_type": "stream",
     "text": [
      "£250.0 are $317.5\n"
     ]
    }
   ],
   "source": [
    "#pounds to dollars\n",
    "conversion_rate = 1.27\n",
    "pounds = float(input(\"Please enter amount in pounds: £\"))\n",
    "\n",
    "# Convert to dollars\n",
    "dollars = pounds * conversion_rate\n",
    "print(\"£\" + str(pounds) + \" are $\" + str(round(dollars, 2)))\n"
   ]
  },
  {
   "cell_type": "code",
   "execution_count": null,
   "id": "e77461ad-3724-4ed6-b00a-60be68302d1c",
   "metadata": {},
   "outputs": [],
   "source": []
  }
 ],
 "metadata": {
  "kernelspec": {
   "display_name": "Python [conda env:base] *",
   "language": "python",
   "name": "conda-base-py"
  },
  "language_info": {
   "codemirror_mode": {
    "name": "ipython",
    "version": 3
   },
   "file_extension": ".py",
   "mimetype": "text/x-python",
   "name": "python",
   "nbconvert_exporter": "python",
   "pygments_lexer": "ipython3",
   "version": "3.12.7"
  }
 },
 "nbformat": 4,
 "nbformat_minor": 5
}
