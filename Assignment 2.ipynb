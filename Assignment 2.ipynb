{
 "cells": [
  {
   "cell_type": "code",
   "execution_count": 6,
   "id": "fab49aec-0256-4148-a49a-d841d3348cd5",
   "metadata": {},
   "outputs": [
    {
     "name": "stdout",
     "output_type": "stream",
     "text": [
      "The elements in the list are  [23, 12, 65, 90, 44]\n",
      "<class 'list'>\n"
     ]
    }
   ],
   "source": [
    "# Exercise Q1. Create a list of 5 random numbers and print the list.\n",
    "list1=[23,12,65,90,44]\n",
    "print(\"The elements in the list are \",list1)\n",
    "print(type(list1))\n"
   ]
  },
  {
   "cell_type": "code",
   "execution_count": 10,
   "id": "ed29d119-abac-4b28-ad9f-79a5de3f4f5d",
   "metadata": {},
   "outputs": [
    {
     "name": "stdout",
     "output_type": "stream",
     "text": [
      "The updated list is  [23, 12, 65, 90, 44, 10, 15, 20, 12, 15, 25]\n"
     ]
    }
   ],
   "source": [
    "#  Q2. Insert 3 new values to the list and print the updated list.\n",
    "list1.extend([12,15,25])\n",
    "print(\"The updated list is \",list1)"
   ]
  },
  {
   "cell_type": "code",
   "execution_count": 12,
   "id": "ada4bebd-f34e-4fb3-97d1-ed1143a142a6",
   "metadata": {},
   "outputs": [
    {
     "name": "stdout",
     "output_type": "stream",
     "text": [
      "23\n",
      "12\n",
      "65\n",
      "90\n",
      "44\n",
      "10\n",
      "15\n",
      "20\n",
      "12\n",
      "15\n",
      "25\n"
     ]
    }
   ],
   "source": [
    "#Q3. Try to use a for loop to print each element in the list.\n",
    "for i in list1 :\n",
    "    print(i)"
   ]
  },
  {
   "cell_type": "code",
   "execution_count": null,
   "id": "5dc03190-c2fe-4455-ba88-f9435ff997c5",
   "metadata": {},
   "outputs": [],
   "source": []
  },
  {
   "cell_type": "code",
   "execution_count": 14,
   "id": "75e11991-bd38-435c-9c94-2dc3d6c5faa2",
   "metadata": {},
   "outputs": [
    {
     "name": "stdout",
     "output_type": "stream",
     "text": [
      "{' name': 'Anu', 'age': 23, 'address': 'kochin'}\n"
     ]
    }
   ],
   "source": [
    "# Topic: Dictionary Exercise Q1. Create a dictionary \n",
    "#with keys 'name', 'age', and 'address' and values 'John', 25, and 'New York' respectively.\n",
    "person={\n",
    "   ' name': 'Anu',\n",
    "    'age' : 23,\n",
    "    'address':'kochin'\n",
    "}\n",
    "print(person)"
   ]
  },
  {
   "cell_type": "code",
   "execution_count": 16,
   "id": "79908c1c-eb0c-4303-91c1-99cc5bed07b2",
   "metadata": {},
   "outputs": [
    {
     "name": "stdout",
     "output_type": "stream",
     "text": [
      "{' name': 'Anu', 'age': 23, 'address': 'kochin', 'phone': 1234567890}\n"
     ]
    }
   ],
   "source": [
    "#  Q2. Add a new key-value pair to the \n",
    "# dictionary created in Q1 with key 'phone' and value '1234567890'. \n",
    "person['phone']=1234567890\n",
    "\n",
    "print(person)"
   ]
  },
  {
   "cell_type": "code",
   "execution_count": 18,
   "id": "1be3fb6b-afcc-43b7-be9a-5060723e8756",
   "metadata": {},
   "outputs": [
    {
     "name": "stdout",
     "output_type": "stream",
     "text": [
      "The set elements are  {1, 2, 3, 4, 5}\n"
     ]
    }
   ],
   "source": [
    "#Topic: Set Exercise Q1.Create a set with values 1, 2, 3, 4, and 5.\n",
    "set1={1,2,3,4,5}\n",
    "print(\"The set elements are \",set1)"
   ]
  },
  {
   "cell_type": "code",
   "execution_count": 20,
   "id": "8cf99078-18be-4660-8fed-05e0063d631f",
   "metadata": {},
   "outputs": [
    {
     "name": "stdout",
     "output_type": "stream",
     "text": [
      "the updated set is  {1, 2, 3, 4, 5, 6}\n"
     ]
    }
   ],
   "source": [
    "# Q2. Add the value 6 to the set created in Q1\n",
    "set1.add(6)\n",
    "print(\"the updated set is \",set1)"
   ]
  },
  {
   "cell_type": "code",
   "execution_count": 22,
   "id": "c2c6599a-f683-41a6-8cdc-51df786f99d8",
   "metadata": {},
   "outputs": [
    {
     "name": "stdout",
     "output_type": "stream",
     "text": [
      "(1, 2, 3, 4)\n"
     ]
    }
   ],
   "source": [
    "# Topic:Tuple Exercise Q1. Create a tuple with values 1, 2, 3, and 4 \n",
    "tuple1=(1,2,3,4,)\n",
    "print(tuple1)"
   ]
  },
  {
   "cell_type": "code",
   "execution_count": 24,
   "id": "fc9e8417-1951-4988-ab49-d6d113fe395a",
   "metadata": {},
   "outputs": [
    {
     "name": "stdout",
     "output_type": "stream",
     "text": [
      "4\n"
     ]
    }
   ],
   "source": [
    "#Q2. Print the length of the tuple created in Q1.\n",
    "print(len(tuple1))"
   ]
  }
 ],
 "metadata": {
  "kernelspec": {
   "display_name": "Python [conda env:base] *",
   "language": "python",
   "name": "conda-base-py"
  },
  "language_info": {
   "codemirror_mode": {
    "name": "ipython",
    "version": 3
   },
   "file_extension": ".py",
   "mimetype": "text/x-python",
   "name": "python",
   "nbconvert_exporter": "python",
   "pygments_lexer": "ipython3",
   "version": "3.12.7"
  }
 },
 "nbformat": 4,
 "nbformat_minor": 5
}
